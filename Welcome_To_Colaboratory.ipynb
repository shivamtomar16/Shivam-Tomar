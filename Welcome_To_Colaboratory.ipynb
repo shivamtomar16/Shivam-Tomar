{
  "cells": [
    {
      "cell_type": "code",
      "source": [
        "import array\n",
        "arr = array.array(\"I\",[4,8,12,16,20])\n",
        "print(\"New created array:\", end =\"\")\n",
        "for I in range (0,4):\n",
        "  print(arr[I], end=\" \")\n",
        "print('\\r')"
      ],
      "metadata": {
        "id": "w_07zCl0DjjU",
        "outputId": "386d3b37-f562-4f93-fe87-93cdf9cb9ac8",
        "colab": {
          "base_uri": "https://localhost:8080/"
        }
      },
      "execution_count": 2,
      "outputs": [
        {
          "output_type": "stream",
          "name": "stdout",
          "text": [
            "New created array:4 8 12 16 \r\n"
          ]
        }
      ]
    }
  ],
  "metadata": {
    "colab": {
      "name": "Welcome To Colaboratory",
      "toc_visible": true,
      "provenance": []
    },
    "kernelspec": {
      "display_name": "Python 3",
      "name": "python3"
    }
  },
  "nbformat": 4,
  "nbformat_minor": 0
}