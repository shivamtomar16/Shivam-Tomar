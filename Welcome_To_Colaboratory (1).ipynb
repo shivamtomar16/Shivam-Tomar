{
  "cells": [
    {
      "cell_type": "code",
      "source": [
        "import pandas as pd\n",
        "dict={'name':[\"Hemant\",\"Rahul\",\"Pappu\",\"Sumit\"],\n",
        "      'age':[\"23\",\"54\",\"16\",\"76\"]}\n",
        "info = pd.DataFrame(dict, index = [True, False,True,False])\n",
        "print(info)"
      ],
      "metadata": {
        "colab": {
          "base_uri": "https://localhost:8080/"
        },
        "id": "fNCXHkmtAxJL",
        "outputId": "64ff271b-0d34-4fe1-ba99-e61d26bcf885"
      },
      "execution_count": 1,
      "outputs": [
        {
          "output_type": "stream",
          "name": "stdout",
          "text": [
            "         name age\n",
            "True   Hemant  23\n",
            "False   Rahul  54\n",
            "True     Papu  16\n",
            "False   Sumit  76\n"
          ]
        }
      ]
    }
  ],
  "metadata": {
    "colab": {
      "name": "Welcome To Colaboratory",
      "toc_visible": true,
      "provenance": []
    },
    "kernelspec": {
      "display_name": "Python 3",
      "name": "python3"
    }
  },
  "nbformat": 4,
  "nbformat_minor": 0
}